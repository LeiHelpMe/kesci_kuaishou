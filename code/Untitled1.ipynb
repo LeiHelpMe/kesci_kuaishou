{
 "cells": [
  {
   "cell_type": "code",
   "execution_count": 1,
   "metadata": {
    "ExecuteTime": {
     "end_time": "2018-06-27T08:42:42.115705Z",
     "start_time": "2018-06-27T08:42:35.858108Z"
    }
   },
   "outputs": [
    {
     "data": {
      "text/html": [
       "<script>requirejs.config({paths: { 'plotly': ['https://cdn.plot.ly/plotly-latest.min']},});if(!window.Plotly) {{require(['plotly'],function(plotly) {window.Plotly=plotly;});}}</script>"
      ],
      "text/vnd.plotly.v1+html": [
       "<script>requirejs.config({paths: { 'plotly': ['https://cdn.plot.ly/plotly-latest.min']},});if(!window.Plotly) {{require(['plotly'],function(plotly) {window.Plotly=plotly;});}}</script>"
      ]
     },
     "metadata": {},
     "output_type": "display_data"
    }
   ],
   "source": [
    "import pandas as pd\n",
    "import numpy as np\n",
    "\n",
    "from sklearn import preprocessing\n",
    "import matplotlib.pyplot as plt\n",
    "from mpl_toolkits.mplot3d import Axes3D\n",
    "plt.rc('font', family='SimHei', size=13)\n",
    "%matplotlib inline\n",
    "\n",
    "import seaborn as sns\n",
    "sns.set()\n",
    "\n",
    "import plotly.graph_objs as go\n",
    "import plotly.plotly as py\n",
    "import plotly.offline as of\n",
    "of.offline.init_notebook_mode(connected=True)"
   ]
  },
  {
   "cell_type": "code",
   "execution_count": 2,
   "metadata": {
    "ExecuteTime": {
     "end_time": "2018-06-27T08:44:01.387298Z",
     "start_time": "2018-06-27T08:43:43.328536Z"
    }
   },
   "outputs": [
    {
     "name": "stdout",
     "output_type": "stream",
     "text": [
      "(252496, 2) (51480, 4) (35849, 2) (21072403, 6)\n"
     ]
    }
   ],
   "source": [
    "app_launch_log = pd.read_csv(\n",
    "    '../data/B/app_launch_log.txt', delimiter='\\t', header=None)\n",
    "user_register_log = pd.read_csv(\n",
    "    '../data/B/user_register_log.txt', delimiter='\\t', header=None)\n",
    "video_create_log = pd.read_csv(\n",
    "    '../data/B/video_create_log.txt', delimiter='\\t', header=None)\n",
    "user_activity_log = pd.read_csv(\n",
    "    '../data/B/user_activity_log.txt', delimiter='\\t', header=None)\n",
    "\n",
    "print(app_launch_log.shape, user_register_log.shape, video_create_log.shape,\n",
    "      user_activity_log.shape)"
   ]
  },
  {
   "cell_type": "code",
   "execution_count": 5,
   "metadata": {
    "ExecuteTime": {
     "end_time": "2018-06-27T08:46:50.480398Z",
     "start_time": "2018-06-27T08:46:50.363466Z"
    }
   },
   "outputs": [],
   "source": [
    "user_register_log.columns=['user_id','register_day','register_type','device_type']\n",
    "app_launch_log.columns=['user_id','day']\n",
    "video_create_log.columns=['user_id','day']\n",
    "user_activity_log.columns=['user_id','day','page','video_id','author_id','action_type']"
   ]
  },
  {
   "cell_type": "markdown",
   "metadata": {
    "ExecuteTime": {
     "end_time": "2018-06-27T08:47:42.732553Z",
     "start_time": "2018-06-27T08:47:41.450287Z"
    }
   },
   "source": [
    "## 数据划分"
   ]
  },
  {
   "cell_type": "code",
   "execution_count": 12,
   "metadata": {
    "ExecuteTime": {
     "end_time": "2018-06-27T08:53:53.499226Z",
     "start_time": "2018-06-27T08:53:53.491208Z"
    }
   },
   "outputs": [],
   "source": [
    "user=user_register_log[user_register_log.register_day.values<17].user_id.unique()"
   ]
  },
  {
   "cell_type": "code",
   "execution_count": 14,
   "metadata": {
    "ExecuteTime": {
     "end_time": "2018-06-27T09:00:37.091797Z",
     "start_time": "2018-06-27T09:00:36.516128Z"
    }
   },
   "outputs": [],
   "source": [
    "user_video=video_create_log[video_create_log.day<17]\n",
    "user_reg=user_register_log[user_register_log.register_day<17]\n",
    "user_lau=app_launch_log[app_launch_log.day<17]\n",
    "user_act=user_activity_log[user_activity_log.day<17]"
   ]
  },
  {
   "cell_type": "code",
   "execution_count": 65,
   "metadata": {
    "ExecuteTime": {
     "end_time": "2018-06-27T12:02:57.576956Z",
     "start_time": "2018-06-27T12:02:56.113816Z"
    }
   },
   "outputs": [],
   "source": [
    "u1=video_create_log[video_create_log.day >= 17].user_id.unique()\n",
    "u2=user_register_log[user_register_log.register_day >= 17].user_id.unique()\n",
    "u3=app_launch_log[app_launch_log.day >= 17].user_id.unique()\n",
    "u4=user_activity_log[user_activity_log.day >= 17].user_id.unique()\n",
    "u=np.unique(np.concatenate([u1,u2,u3,u4]))"
   ]
  },
  {
   "cell_type": "code",
   "execution_count": 41,
   "metadata": {
    "ExecuteTime": {
     "end_time": "2018-06-27T09:42:18.869246Z",
     "start_time": "2018-06-27T09:42:18.399525Z"
    }
   },
   "outputs": [],
   "source": [
    "#特征1 操作次数\n",
    "group = user_act.groupby(user_act.user_id)\n",
    "act_count = group.size()\n",
    "\n",
    "#特征2 video创建次数\n",
    "group = user_video.groupby(user_video.user_id)\n",
    "video_count = group.size()\n",
    "\n",
    "#特征3 注册时间（注册日期）\n",
    "reg_day = user_reg.iloc[:, :2]\n",
    "reg_day = reg_day.set_index(reg_day.user_id).loc[:, 'register_day']\n",
    "\n",
    "#特征4 启动次数\n",
    "group = user_lau.groupby(user_lau.user_id)\n",
    "lau_count = group.size()\n",
    "\n",
    "#特征5 最后一次使用日期\n",
    "group = user_act.groupby(user_act.user_id)\n",
    "act_maxday = group.day.max()\n",
    "\n",
    "#特征6 最后一次创建video\n",
    "group = user_video.groupby(user_video.user_id)\n",
    "video_maxday = group.day.max()\n",
    "\n",
    "#特征7 最大操作次数\n",
    "group = user_act.groupby(['user_id', 'day'])\n",
    "act_max = group.size()\n",
    "v = [act_max[i].max() for i in act_max.index.levels[0]]\n",
    "act_max = pd.Series(v, index=act_max.index.levels[0])"
   ]
  },
  {
   "cell_type": "code",
   "execution_count": 149,
   "metadata": {
    "ExecuteTime": {
     "end_time": "2018-06-27T13:30:41.578696Z",
     "start_time": "2018-06-27T13:30:41.558708Z"
    }
   },
   "outputs": [],
   "source": [
    "#特征8 连续使用天数\n",
    "from itertools import groupby\n",
    "def count_series_day(days):\n",
    "    lst=days.tolist()\n",
    "    \n",
    "    fun = lambda x: x[1] - x[0]\n",
    "    return np.max([len([v for i, v in g]) for k, g in groupby(enumerate(lst), fun)])\n",
    "\n",
    "group=user_act.groupby(user_act.user_id)"
   ]
  },
  {
   "cell_type": "code",
   "execution_count": 150,
   "metadata": {
    "ExecuteTime": {
     "end_time": "2018-06-27T13:30:49.053442Z",
     "start_time": "2018-06-27T13:30:42.404249Z"
    }
   },
   "outputs": [
    {
     "data": {
      "text/plain": [
       "user_id\n",
       "8          2\n",
       "73         2\n",
       "129        1\n",
       "228        1\n",
       "351        1\n",
       "398        1\n",
       "409        1\n",
       "509        1\n",
       "556        2\n",
       "627        1\n",
       "948        1\n",
       "1115       2\n",
       "1197       3\n",
       "1341       2\n",
       "1374       2\n",
       "1504       4\n",
       "1607       1\n",
       "1644       1\n",
       "1657       1\n",
       "1704       1\n",
       "1822       1\n",
       "1893       1\n",
       "1914       2\n",
       "1927       3\n",
       "1988       3\n",
       "1995       1\n",
       "2116       1\n",
       "2328       1\n",
       "2332       1\n",
       "2387       2\n",
       "          ..\n",
       "1381525    3\n",
       "1381614    2\n",
       "1381665    1\n",
       "1381697    1\n",
       "1381715    1\n",
       "1381725    1\n",
       "1381752    1\n",
       "1382136    1\n",
       "1382173    3\n",
       "1382328    1\n",
       "1382333    1\n",
       "1382361    1\n",
       "1382423    1\n",
       "1382514    3\n",
       "1382548    1\n",
       "1382639    3\n",
       "1382683    2\n",
       "1382849    1\n",
       "1382992    2\n",
       "1383128    1\n",
       "1383142    1\n",
       "1383263    1\n",
       "1383289    1\n",
       "1383467    1\n",
       "1383475    2\n",
       "1383627    1\n",
       "1383642    1\n",
       "1383684    1\n",
       "1383705    1\n",
       "1383717    1\n",
       "Name: day, Length: 20535, dtype: int64"
      ]
     },
     "execution_count": 150,
     "metadata": {},
     "output_type": "execute_result"
    }
   ],
   "source": [
    "group.day.apply(lambda df: count_series_day(df.values))"
   ]
  },
  {
   "cell_type": "code",
   "execution_count": null,
   "metadata": {},
   "outputs": [],
   "source": []
  },
  {
   "cell_type": "code",
   "execution_count": 72,
   "metadata": {
    "ExecuteTime": {
     "end_time": "2018-06-27T12:08:36.791768Z",
     "start_time": "2018-06-27T12:08:35.248623Z"
    },
    "code_folding": []
   },
   "outputs": [],
   "source": [
    "data = pd.concat(\n",
    "    [act_count, video_count, reg_day, lau_count, act_maxday, video_maxday],\n",
    "    axis=1)\n",
    "data.columns = [\n",
    "    'act_count', 'video_count', 'reg_day', 'lau_count', 'act_maxday',\n",
    "    'video_maxday'\n",
    "]\n",
    "data = data.fillna(0)\n",
    "label = [1 if i in u else 0 for i in data.index]\n",
    "data['target'] = label"
   ]
  },
  {
   "cell_type": "code",
   "execution_count": 73,
   "metadata": {
    "ExecuteTime": {
     "end_time": "2018-06-27T12:08:45.613203Z",
     "start_time": "2018-06-27T12:08:45.598209Z"
    }
   },
   "outputs": [
    {
     "data": {
      "text/html": [
       "<div>\n",
       "<style scoped>\n",
       "    .dataframe tbody tr th:only-of-type {\n",
       "        vertical-align: middle;\n",
       "    }\n",
       "\n",
       "    .dataframe tbody tr th {\n",
       "        vertical-align: top;\n",
       "    }\n",
       "\n",
       "    .dataframe thead th {\n",
       "        text-align: right;\n",
       "    }\n",
       "</style>\n",
       "<table border=\"1\" class=\"dataframe\">\n",
       "  <thead>\n",
       "    <tr style=\"text-align: right;\">\n",
       "      <th></th>\n",
       "      <th>act_count</th>\n",
       "      <th>video_count</th>\n",
       "      <th>reg_day</th>\n",
       "      <th>lau_count</th>\n",
       "      <th>act_maxday</th>\n",
       "      <th>video_maxday</th>\n",
       "      <th>target</th>\n",
       "    </tr>\n",
       "    <tr>\n",
       "      <th>user_id</th>\n",
       "      <th></th>\n",
       "      <th></th>\n",
       "      <th></th>\n",
       "      <th></th>\n",
       "      <th></th>\n",
       "      <th></th>\n",
       "      <th></th>\n",
       "    </tr>\n",
       "  </thead>\n",
       "  <tbody>\n",
       "    <tr>\n",
       "      <th>8</th>\n",
       "      <td>96.0</td>\n",
       "      <td>0.0</td>\n",
       "      <td>9</td>\n",
       "      <td>4</td>\n",
       "      <td>13.0</td>\n",
       "      <td>0.0</td>\n",
       "      <td>1</td>\n",
       "    </tr>\n",
       "    <tr>\n",
       "      <th>73</th>\n",
       "      <td>36.0</td>\n",
       "      <td>0.0</td>\n",
       "      <td>2</td>\n",
       "      <td>3</td>\n",
       "      <td>5.0</td>\n",
       "      <td>0.0</td>\n",
       "      <td>0</td>\n",
       "    </tr>\n",
       "    <tr>\n",
       "      <th>129</th>\n",
       "      <td>1.0</td>\n",
       "      <td>0.0</td>\n",
       "      <td>12</td>\n",
       "      <td>1</td>\n",
       "      <td>12.0</td>\n",
       "      <td>0.0</td>\n",
       "      <td>1</td>\n",
       "    </tr>\n",
       "    <tr>\n",
       "      <th>228</th>\n",
       "      <td>22.0</td>\n",
       "      <td>0.0</td>\n",
       "      <td>13</td>\n",
       "      <td>1</td>\n",
       "      <td>13.0</td>\n",
       "      <td>0.0</td>\n",
       "      <td>1</td>\n",
       "    </tr>\n",
       "    <tr>\n",
       "      <th>351</th>\n",
       "      <td>176.0</td>\n",
       "      <td>0.0</td>\n",
       "      <td>3</td>\n",
       "      <td>1</td>\n",
       "      <td>3.0</td>\n",
       "      <td>0.0</td>\n",
       "      <td>0</td>\n",
       "    </tr>\n",
       "  </tbody>\n",
       "</table>\n",
       "</div>"
      ],
      "text/plain": [
       "         act_count  video_count  reg_day  lau_count  act_maxday  video_maxday  \\\n",
       "user_id                                                                         \n",
       "8             96.0          0.0        9          4        13.0           0.0   \n",
       "73            36.0          0.0        2          3         5.0           0.0   \n",
       "129            1.0          0.0       12          1        12.0           0.0   \n",
       "228           22.0          0.0       13          1        13.0           0.0   \n",
       "351          176.0          0.0        3          1         3.0           0.0   \n",
       "\n",
       "         target  \n",
       "user_id          \n",
       "8             1  \n",
       "73            0  \n",
       "129           1  \n",
       "228           1  \n",
       "351           0  "
      ]
     },
     "execution_count": 73,
     "metadata": {},
     "output_type": "execute_result"
    }
   ],
   "source": [
    "data.head()"
   ]
  }
 ],
 "metadata": {
  "kernelspec": {
   "display_name": "Python 3",
   "language": "python",
   "name": "python3"
  },
  "language_info": {
   "codemirror_mode": {
    "name": "ipython",
    "version": 3
   },
   "file_extension": ".py",
   "mimetype": "text/x-python",
   "name": "python",
   "nbconvert_exporter": "python",
   "pygments_lexer": "ipython3",
   "version": "3.6.4"
  },
  "varInspector": {
   "cols": {
    "lenName": 16,
    "lenType": 16,
    "lenVar": 40
   },
   "kernels_config": {
    "python": {
     "delete_cmd_postfix": "",
     "delete_cmd_prefix": "del ",
     "library": "var_list.py",
     "varRefreshCmd": "print(var_dic_list())"
    },
    "r": {
     "delete_cmd_postfix": ") ",
     "delete_cmd_prefix": "rm(",
     "library": "var_list.r",
     "varRefreshCmd": "cat(var_dic_list()) "
    }
   },
   "types_to_exclude": [
    "module",
    "function",
    "builtin_function_or_method",
    "instance",
    "_Feature"
   ],
   "window_display": false
  }
 },
 "nbformat": 4,
 "nbformat_minor": 2
}
