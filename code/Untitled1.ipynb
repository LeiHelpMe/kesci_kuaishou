{
 "cells": [
  {
   "cell_type": "code",
   "execution_count": 2,
   "metadata": {
    "ExecuteTime": {
     "end_time": "2018-06-28T00:49:24.050594Z",
     "start_time": "2018-06-28T00:49:24.040583Z"
    },
    "collapsed": true
   },
   "outputs": [],
   "source": [
    "import pandas as pd\n",
    "import numpy as np\n",
    "\n",
    "from sklearn import preprocessing\n",
    "# import matplotlib.pyplot as plt\n",
    "from mpl_toolkits.mplot3d import Axes3D\n",
    "plt.rc('font', family='SimHei', size=13)\n",
    "%matplotlib inline\n",
    "\n",
    "import seaborn as sns\n",
    "sns.set()\n",
    "\n",
    "# import plotly.graph_objs as go\n",
    "# import plotly.plotly as py\n",
    "# import plotly.offline as of\n",
    "# of.offline.init_notebook_mode(connected=True)"
   ]
  },
  {
   "cell_type": "code",
   "execution_count": 3,
   "metadata": {
    "ExecuteTime": {
     "end_time": "2018-06-28T00:49:49.716909Z",
     "start_time": "2018-06-28T00:49:27.856378Z"
    }
   },
   "outputs": [
    {
     "name": "stdout",
     "output_type": "stream",
     "text": [
      "(252496, 2) (51480, 4) (35849, 2) (21072403, 6)\n"
     ]
    }
   ],
   "source": [
    "app_launch_log = pd.read_csv(\n",
    "    '../data/B/app_launch_log.txt', delimiter='\\t', header=None)\n",
    "user_register_log = pd.read_csv(\n",
    "    '../data/B/user_register_log.txt', delimiter='\\t', header=None)\n",
    "video_create_log = pd.read_csv(\n",
    "    '../data/B/video_create_log.txt', delimiter='\\t', header=None)\n",
    "user_activity_log = pd.read_csv(\n",
    "    '../data/B/user_activity_log.txt', delimiter='\\t', header=None)\n",
    "\n",
    "print(app_launch_log.shape, user_register_log.shape, video_create_log.shape,\n",
    "      user_activity_log.shape)"
   ]
  },
  {
   "cell_type": "code",
   "execution_count": 4,
   "metadata": {
    "ExecuteTime": {
     "end_time": "2018-06-28T00:49:49.987275Z",
     "start_time": "2018-06-28T00:49:49.753813Z"
    },
    "collapsed": true
   },
   "outputs": [],
   "source": [
    "user_register_log.columns=['user_id','register_day','register_type','device_type']\n",
    "app_launch_log.columns=['user_id','day']\n",
    "video_create_log.columns=['user_id','day']\n",
    "user_activity_log.columns=['user_id','day','page','video_id','author_id','action_type']"
   ]
  },
  {
   "cell_type": "markdown",
   "metadata": {
    "ExecuteTime": {
     "end_time": "2018-06-27T08:47:42.732553Z",
     "start_time": "2018-06-27T08:47:41.450287Z"
    }
   },
   "source": [
    "## 数据划分"
   ]
  },
  {
   "cell_type": "code",
   "execution_count": 5,
   "metadata": {
    "ExecuteTime": {
     "end_time": "2018-06-28T00:49:52.006786Z",
     "start_time": "2018-06-28T00:49:49.992179Z"
    },
    "collapsed": true
   },
   "outputs": [],
   "source": [
    "user=user_register_log[user_register_log.register_day.values<17].user_id.unique()\n",
    "\n",
    "user_video=video_create_log[video_create_log.day<17]\n",
    "user_reg=user_register_log[user_register_log.register_day<17]\n",
    "user_lau=app_launch_log[app_launch_log.day<17]\n",
    "user_act=user_activity_log[user_activity_log.day<17]\n",
    "\n",
    "u1=video_create_log[video_create_log.day >= 17].user_id.unique()\n",
    "u2=user_register_log[user_register_log.register_day >= 17].user_id.unique()\n",
    "u3=app_launch_log[app_launch_log.day >= 17].user_id.unique()\n",
    "u4=user_activity_log[user_activity_log.day >= 17].user_id.unique()\n",
    "u=np.unique(np.concatenate([u1,u2,u3,u4]))\n",
    "\n",
    "#特征1 操作次数\n",
    "group = user_act.groupby(user_act.user_id)\n",
    "act_count = group.size()\n",
    "\n",
    "#特征2 video创建次数\n",
    "group = user_video.groupby(user_video.user_id)\n",
    "video_count = group.size()\n",
    "\n",
    "#特征3 注册时间（注册日期）\n",
    "reg_day = user_reg.iloc[:, :2]\n",
    "reg_day = reg_day.set_index(reg_day.user_id).loc[:, 'register_day']\n",
    "\n",
    "#特征4 启动次数\n",
    "group = user_lau.groupby(user_lau.user_id)\n",
    "lau_count = group.size()\n",
    "\n",
    "#特征5 最后一次使用日期\n",
    "group = user_act.groupby(user_act.user_id)\n",
    "act_maxday = group.day.max()\n",
    "\n",
    "#特征6 最后一次创建video\n",
    "group = user_video.groupby(user_video.user_id)\n",
    "video_maxday = group.day.max()\n",
    "\n",
    "#特征7 最大操作次数\n",
    "group = user_act.groupby(['user_id', 'day'])\n",
    "act_max = group.size()\n",
    "v = [act_max[i].max() for i in act_max.index.levels[0]]\n",
    "act_max = pd.Series(v, index=act_max.index.levels[0])\n",
    "\n",
    "#特征8 最大连续使用天数\n",
    "from itertools import groupby\n",
    "\n",
    "def count_series_day(days):\n",
    "    lst = days.tolist()\n",
    "    fun = lambda x: x[1] - x[0]\n",
    "    return np.max(\n",
    "        [len([v for i, v in g]) for k, g in groupby(enumerate(lst), fun)])\n",
    "\n",
    "group = user_act.groupby(user_act.user_id)\n",
    "series_days = group.day.apply(lambda df: count_series_day(df.values))\n",
    "\n",
    "#特征9 连续使用次数\n",
    "def count_series_day(days):\n",
    "    lst = days.tolist()\n",
    "    fun = lambda x: x[1] - x[0]\n",
    "    return len([[v for i, v in g] for k, g in groupby(enumerate(lst), fun)])\n",
    "\n",
    "group = user_act.groupby(user_act.user_id)\n",
    "series_days_count = group.day.apply(lambda df: count_series_day(df.values))\n",
    "\n",
    "#特征10 最大连续几天没有使用\n",
    "\n",
    "\n",
    "\n",
    "\n",
    "\n",
    "data = pd.concat(\n",
    "    [act_count, video_count, reg_day, lau_count, act_maxday, video_maxday,act_max,series_days,series_days_count],\n",
    "    axis=1)\n",
    "data.columns = [\n",
    "    'act_count', 'video_count', 'reg_day', 'lau_count', 'act_maxday',\n",
    "    'video_maxday','act_max','series_days','series_days_count'\n",
    "]\n",
    "data = data.fillna(0)\n",
    "label = [1 if i in u else 0 for i in data.index]\n",
    "data['target'] = label\n",
    "\n",
    "data['use_days']=17-data.reg_day.values\n",
    "\n",
    "data['mean_act']=data.act_count.values/data.use_days.values\n",
    "\n",
    "data['mean_video']=data.video_count.values/data.use_days.values\n",
    "\n",
    "data['mean_series']=data.series_days.values/data.use_days.values\n",
    "\n",
    "data['mean_lau']=data.lau_count.values/data.use_days.values"
   ]
  },
  {
   "cell_type": "code",
   "execution_count": 22,
   "metadata": {
    "ExecuteTime": {
     "end_time": "2018-06-28T08:58:48.165557Z",
     "start_time": "2018-06-28T08:58:47.992034Z"
    }
   },
   "outputs": [
    {
     "data": {
      "text/html": [
       "<div>\n",
       "<style>\n",
       "    .dataframe thead tr:only-child th {\n",
       "        text-align: right;\n",
       "    }\n",
       "\n",
       "    .dataframe thead th {\n",
       "        text-align: left;\n",
       "    }\n",
       "\n",
       "    .dataframe tbody tr th {\n",
       "        vertical-align: top;\n",
       "    }\n",
       "</style>\n",
       "<table border=\"1\" class=\"dataframe\">\n",
       "  <thead>\n",
       "    <tr style=\"text-align: right;\">\n",
       "      <th></th>\n",
       "      <th>act_count</th>\n",
       "      <th>video_count</th>\n",
       "      <th>reg_day</th>\n",
       "      <th>lau_count</th>\n",
       "      <th>act_maxday</th>\n",
       "      <th>video_maxday</th>\n",
       "      <th>act_max</th>\n",
       "      <th>series_days</th>\n",
       "      <th>series_days_count</th>\n",
       "      <th>target</th>\n",
       "      <th>use_days</th>\n",
       "      <th>mean_act</th>\n",
       "      <th>mean_video</th>\n",
       "      <th>mean_series</th>\n",
       "      <th>mean_lau</th>\n",
       "    </tr>\n",
       "    <tr>\n",
       "      <th>user_id</th>\n",
       "      <th></th>\n",
       "      <th></th>\n",
       "      <th></th>\n",
       "      <th></th>\n",
       "      <th></th>\n",
       "      <th></th>\n",
       "      <th></th>\n",
       "      <th></th>\n",
       "      <th></th>\n",
       "      <th></th>\n",
       "      <th></th>\n",
       "      <th></th>\n",
       "      <th></th>\n",
       "      <th></th>\n",
       "      <th></th>\n",
       "    </tr>\n",
       "  </thead>\n",
       "  <tbody>\n",
       "    <tr>\n",
       "      <th>8</th>\n",
       "      <td>96.0</td>\n",
       "      <td>0.0</td>\n",
       "      <td>9</td>\n",
       "      <td>4</td>\n",
       "      <td>13.0</td>\n",
       "      <td>0.0</td>\n",
       "      <td>39.0</td>\n",
       "      <td>2.0</td>\n",
       "      <td>87.0</td>\n",
       "      <td>1</td>\n",
       "      <td>8</td>\n",
       "      <td>12.000000</td>\n",
       "      <td>0.0</td>\n",
       "      <td>0.250000</td>\n",
       "      <td>0.500000</td>\n",
       "    </tr>\n",
       "    <tr>\n",
       "      <th>73</th>\n",
       "      <td>36.0</td>\n",
       "      <td>0.0</td>\n",
       "      <td>2</td>\n",
       "      <td>3</td>\n",
       "      <td>5.0</td>\n",
       "      <td>0.0</td>\n",
       "      <td>31.0</td>\n",
       "      <td>2.0</td>\n",
       "      <td>32.0</td>\n",
       "      <td>0</td>\n",
       "      <td>15</td>\n",
       "      <td>2.400000</td>\n",
       "      <td>0.0</td>\n",
       "      <td>0.133333</td>\n",
       "      <td>0.200000</td>\n",
       "    </tr>\n",
       "    <tr>\n",
       "      <th>129</th>\n",
       "      <td>1.0</td>\n",
       "      <td>0.0</td>\n",
       "      <td>12</td>\n",
       "      <td>1</td>\n",
       "      <td>12.0</td>\n",
       "      <td>0.0</td>\n",
       "      <td>1.0</td>\n",
       "      <td>1.0</td>\n",
       "      <td>1.0</td>\n",
       "      <td>1</td>\n",
       "      <td>5</td>\n",
       "      <td>0.200000</td>\n",
       "      <td>0.0</td>\n",
       "      <td>0.200000</td>\n",
       "      <td>0.200000</td>\n",
       "    </tr>\n",
       "    <tr>\n",
       "      <th>228</th>\n",
       "      <td>22.0</td>\n",
       "      <td>0.0</td>\n",
       "      <td>13</td>\n",
       "      <td>1</td>\n",
       "      <td>13.0</td>\n",
       "      <td>0.0</td>\n",
       "      <td>22.0</td>\n",
       "      <td>1.0</td>\n",
       "      <td>22.0</td>\n",
       "      <td>1</td>\n",
       "      <td>4</td>\n",
       "      <td>5.500000</td>\n",
       "      <td>0.0</td>\n",
       "      <td>0.250000</td>\n",
       "      <td>0.250000</td>\n",
       "    </tr>\n",
       "    <tr>\n",
       "      <th>351</th>\n",
       "      <td>176.0</td>\n",
       "      <td>0.0</td>\n",
       "      <td>3</td>\n",
       "      <td>1</td>\n",
       "      <td>3.0</td>\n",
       "      <td>0.0</td>\n",
       "      <td>176.0</td>\n",
       "      <td>1.0</td>\n",
       "      <td>176.0</td>\n",
       "      <td>0</td>\n",
       "      <td>14</td>\n",
       "      <td>12.571429</td>\n",
       "      <td>0.0</td>\n",
       "      <td>0.071429</td>\n",
       "      <td>0.071429</td>\n",
       "    </tr>\n",
       "  </tbody>\n",
       "</table>\n",
       "</div>"
      ],
      "text/plain": [
       "         act_count  video_count  reg_day  lau_count  act_maxday  video_maxday  \\\n",
       "user_id                                                                         \n",
       "8             96.0          0.0        9          4        13.0           0.0   \n",
       "73            36.0          0.0        2          3         5.0           0.0   \n",
       "129            1.0          0.0       12          1        12.0           0.0   \n",
       "228           22.0          0.0       13          1        13.0           0.0   \n",
       "351          176.0          0.0        3          1         3.0           0.0   \n",
       "\n",
       "         act_max  series_days  series_days_count  target  use_days   mean_act  \\\n",
       "user_id                                                                         \n",
       "8           39.0          2.0               87.0       1         8  12.000000   \n",
       "73          31.0          2.0               32.0       0        15   2.400000   \n",
       "129          1.0          1.0                1.0       1         5   0.200000   \n",
       "228         22.0          1.0               22.0       1         4   5.500000   \n",
       "351        176.0          1.0              176.0       0        14  12.571429   \n",
       "\n",
       "         mean_video  mean_series  mean_lau  \n",
       "user_id                                     \n",
       "8               0.0     0.250000  0.500000  \n",
       "73              0.0     0.133333  0.200000  \n",
       "129             0.0     0.200000  0.200000  \n",
       "228             0.0     0.250000  0.250000  \n",
       "351             0.0     0.071429  0.071429  "
      ]
     },
     "execution_count": 22,
     "metadata": {},
     "output_type": "execute_result"
    }
   ],
   "source": [
    "data.head()"
   ]
  },
  {
   "cell_type": "code",
   "execution_count": 23,
   "metadata": {
    "ExecuteTime": {
     "end_time": "2018-06-28T09:00:22.464924Z",
     "start_time": "2018-06-28T09:00:22.223532Z"
    },
    "collapsed": true
   },
   "outputs": [],
   "source": [
    "X=data.loc[:,['act_maxday','video_maxday','act_max','mean_act','mean_video','mean_series','mean_lau']]\n",
    "y=data.target.values"
   ]
  },
  {
   "cell_type": "code",
   "execution_count": 25,
   "metadata": {
    "ExecuteTime": {
     "end_time": "2018-06-28T09:00:55.743396Z",
     "start_time": "2018-06-28T09:00:55.736414Z"
    }
   },
   "outputs": [],
   "source": [
    "X=np.array(X)"
   ]
  },
  {
   "cell_type": "code",
   "execution_count": 28,
   "metadata": {
    "ExecuteTime": {
     "end_time": "2018-06-28T09:07:33.329618Z",
     "start_time": "2018-06-28T09:07:33.240853Z"
    }
   },
   "outputs": [],
   "source": [
    "from sklearn.model_selection import train_test_split\n",
    "X_train,X_test,y_train,y_test=train_test_split(X,y, test_size = 0.3)"
   ]
  },
  {
   "cell_type": "code",
   "execution_count": 32,
   "metadata": {
    "ExecuteTime": {
     "end_time": "2018-06-28T09:10:38.582954Z",
     "start_time": "2018-06-28T09:09:31.148247Z"
    }
   },
   "outputs": [
    {
     "data": {
      "text/plain": [
       "0.781524313780131"
      ]
     },
     "execution_count": 32,
     "metadata": {},
     "output_type": "execute_result"
    }
   ],
   "source": [
    "from sklearn.tree import DecisionTreeClassifier\n",
    "from sklearn.ensemble import BaggingClassifier\n",
    "\n",
    "bagging_clf=BaggingClassifier(DecisionTreeClassifier(max_leaf_nodes=10,random_state=666),\n",
    "                    n_estimators=10000,max_samples=5000,\n",
    "                    bootstrap=True,oob_score=True,\n",
    "                    n_jobs=-1,\n",
    "                    max_features=6,bootstrap_features=True)\n",
    "bagging_clf.fit(X_train,y_train)\n",
    "# bagging_clf.oob_score_\n",
    "bagging_clf.score(X_test,y_test)"
   ]
  },
  {
   "cell_type": "code",
   "execution_count": 34,
   "metadata": {
    "ExecuteTime": {
     "end_time": "2018-06-28T11:18:20.918801Z",
     "start_time": "2018-06-28T11:18:20.850012Z"
    }
   },
   "outputs": [
    {
     "data": {
      "text/plain": [
       "KNeighborsClassifier(algorithm='auto', leaf_size=30, metric='minkowski',\n",
       "           metric_params=None, n_jobs=1, n_neighbors=5, p=2,\n",
       "           weights='uniform')"
      ]
     },
     "execution_count": 34,
     "metadata": {},
     "output_type": "execute_result"
    }
   ],
   "source": [
    "from sklearn.neighbors import KNeighborsClassifier\n",
    "knn_clf=KNeighborsClassifier()\n",
    "knn_clf.fit(X_train,y_train)\n"
   ]
  },
  {
   "cell_type": "code",
   "execution_count": 35,
   "metadata": {
    "ExecuteTime": {
     "end_time": "2018-06-28T11:18:23.019423Z",
     "start_time": "2018-06-28T11:18:22.872813Z"
    }
   },
   "outputs": [
    {
     "data": {
      "text/plain": [
       "0.7480841577260694"
      ]
     },
     "execution_count": 35,
     "metadata": {},
     "output_type": "execute_result"
    }
   ],
   "source": [
    "knn_clf.score(X_test,y_test)"
   ]
  },
  {
   "cell_type": "code",
   "execution_count": null,
   "metadata": {
    "collapsed": true
   },
   "outputs": [],
   "source": [
    "from sklearn.decomposition import PCA\n",
    "pca = PCA(n_components=2)\n",
    "pca.fit(X)"
   ]
  },
  {
   "cell_type": "code",
   "execution_count": null,
   "metadata": {
    "collapsed": true
   },
   "outputs": [],
   "source": []
  },
  {
   "cell_type": "code",
   "execution_count": null,
   "metadata": {
    "collapsed": true
   },
   "outputs": [],
   "source": [
    "user=user_register_log[user_register_log.register_day.values<17].user_id.unique()\n",
    "\n",
    "user_video=video_create_log[video_create_log.day<17]\n",
    "user_reg=user_register_log[user_register_log.register_day<17]\n",
    "user_lau=app_launch_log[app_launch_log.day<17]\n",
    "user_act=user_activity_log[user_activity_log.day<17]\n",
    "\n",
    "u1=video_create_log[video_create_log.day >= 17].user_id.unique()\n",
    "u2=user_register_log[user_register_log.register_day >= 17].user_id.unique()\n",
    "u3=app_launch_log[app_launch_log.day >= 17].user_id.unique()\n",
    "u4=user_activity_log[user_activity_log.day >= 17].user_id.unique()\n",
    "u=np.unique(np.concatenate([u1,u2,u3,u4]))\n",
    "\n",
    "#特征1 操作次数\n",
    "group = user_act.groupby(user_act.user_id)\n",
    "act_count = group.size()\n",
    "\n",
    "#特征2 video创建次数\n",
    "group = user_video.groupby(user_video.user_id)\n",
    "video_count = group.size()\n",
    "\n",
    "#特征3 注册时间（注册日期）\n",
    "reg_day = user_reg.iloc[:, :2]\n",
    "reg_day = reg_day.set_index(reg_day.user_id).loc[:, 'register_day']\n",
    "\n",
    "#特征4 启动次数\n",
    "group = user_lau.groupby(user_lau.user_id)\n",
    "lau_count = group.size()\n",
    "\n",
    "#特征5 最后一次使用日期\n",
    "group = user_act.groupby(user_act.user_id)\n",
    "act_maxday = group.day.max()\n",
    "\n",
    "#特征6 最后一次创建video\n",
    "group = user_video.groupby(user_video.user_id)\n",
    "video_maxday = group.day.max()\n",
    "\n",
    "#特征7 最大操作次数\n",
    "group = user_act.groupby(['user_id', 'day'])\n",
    "act_max = group.size()\n",
    "v = [act_max[i].max() for i in act_max.index.levels[0]]\n",
    "act_max = pd.Series(v, index=act_max.index.levels[0])\n",
    "\n",
    "#特征8 最大连续使用天数\n",
    "from itertools import groupby\n",
    "\n",
    "def count_series_day(days):\n",
    "    lst = days.tolist()\n",
    "    fun = lambda x: x[1] - x[0]\n",
    "    return np.max(\n",
    "        [len([v for i, v in g]) for k, g in groupby(enumerate(lst), fun)])\n",
    "\n",
    "group = user_act.groupby(user_act.user_id)\n",
    "series_days = group.day.apply(lambda df: count_series_day(df.values))\n",
    "\n",
    "#特征9 连续使用次数\n",
    "def count_series_day(days):\n",
    "    lst = days.tolist()\n",
    "    fun = lambda x: x[1] - x[0]\n",
    "    return len([[v for i, v in g] for k, g in groupby(enumerate(lst), fun)])\n",
    "\n",
    "group = user_act.groupby(user_act.user_id)\n",
    "series_days_count = group.day.apply(lambda df: count_series_day(df.values))\n",
    "\n",
    "#特征10 最大连续几天没有使用\n",
    "\n",
    "\n",
    "\n",
    "\n",
    "\n",
    "data = pd.concat(\n",
    "    [act_count, video_count, reg_day, lau_count, act_maxday, video_maxday,act_max,series_days,series_days_count],\n",
    "    axis=1)\n",
    "data.columns = [\n",
    "    'act_count', 'video_count', 'reg_day', 'lau_count', 'act_maxday',\n",
    "    'video_maxday','act_max','series_days','series_days_count'\n",
    "]\n",
    "data = data.fillna(0)\n",
    "label = [1 if i in u else 0 for i in data.index]\n",
    "data['target'] = label\n",
    "\n",
    "data['use_days']=17-data.reg_day.values\n",
    "\n",
    "data['mean_act']=data.act_count.values/data.use_days.values\n",
    "\n",
    "data['mean_video']=data.video_count.values/data.use_days.values\n",
    "\n",
    "data['mean_series']=data.series_days.values/data.use_days.values\n",
    "\n",
    "data['mean_lau']=data.lau_count.values/data.use_days.values"
   ]
  }
 ],
 "metadata": {
  "kernelspec": {
   "display_name": "Python 3",
   "language": "python",
   "name": "python3"
  },
  "language_info": {
   "codemirror_mode": {
    "name": "ipython",
    "version": 3
   },
   "file_extension": ".py",
   "mimetype": "text/x-python",
   "name": "python",
   "nbconvert_exporter": "python",
   "pygments_lexer": "ipython3",
   "version": "3.6.1"
  },
  "varInspector": {
   "cols": {
    "lenName": 16,
    "lenType": 16,
    "lenVar": 40
   },
   "kernels_config": {
    "python": {
     "delete_cmd_postfix": "",
     "delete_cmd_prefix": "del ",
     "library": "var_list.py",
     "varRefreshCmd": "print(var_dic_list())"
    },
    "r": {
     "delete_cmd_postfix": ") ",
     "delete_cmd_prefix": "rm(",
     "library": "var_list.r",
     "varRefreshCmd": "cat(var_dic_list()) "
    }
   },
   "types_to_exclude": [
    "module",
    "function",
    "builtin_function_or_method",
    "instance",
    "_Feature"
   ],
   "window_display": false
  }
 },
 "nbformat": 4,
 "nbformat_minor": 2
}
