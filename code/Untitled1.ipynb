{
 "cells": [
  {
   "cell_type": "code",
   "execution_count": 1,
   "metadata": {
    "ExecuteTime": {
     "end_time": "2018-06-27T08:42:42.115705Z",
     "start_time": "2018-06-27T08:42:35.858108Z"
    }
   },
   "outputs": [
    {
     "data": {
      "text/html": [
       "<script>requirejs.config({paths: { 'plotly': ['https://cdn.plot.ly/plotly-latest.min']},});if(!window.Plotly) {{require(['plotly'],function(plotly) {window.Plotly=plotly;});}}</script>"
      ],
      "text/vnd.plotly.v1+html": [
       "<script>requirejs.config({paths: { 'plotly': ['https://cdn.plot.ly/plotly-latest.min']},});if(!window.Plotly) {{require(['plotly'],function(plotly) {window.Plotly=plotly;});}}</script>"
      ]
     },
     "metadata": {},
     "output_type": "display_data"
    }
   ],
   "source": [
    "import pandas as pd\n",
    "import numpy as np\n",
    "\n",
    "from sklearn import preprocessing\n",
    "import matplotlib.pyplot as plt\n",
    "from mpl_toolkits.mplot3d import Axes3D\n",
    "plt.rc('font', family='SimHei', size=13)\n",
    "%matplotlib inline\n",
    "\n",
    "import seaborn as sns\n",
    "sns.set()\n",
    "\n",
    "import plotly.graph_objs as go\n",
    "import plotly.plotly as py\n",
    "import plotly.offline as of\n",
    "of.offline.init_notebook_mode(connected=True)"
   ]
  },
  {
   "cell_type": "code",
   "execution_count": 2,
   "metadata": {
    "ExecuteTime": {
     "end_time": "2018-06-27T08:44:01.387298Z",
     "start_time": "2018-06-27T08:43:43.328536Z"
    }
   },
   "outputs": [
    {
     "name": "stdout",
     "output_type": "stream",
     "text": [
      "(252496, 2) (51480, 4) (35849, 2) (21072403, 6)\n"
     ]
    }
   ],
   "source": [
    "app_launch_log = pd.read_csv(\n",
    "    '../data/B/app_launch_log.txt', delimiter='\\t', header=None)\n",
    "user_register_log = pd.read_csv(\n",
    "    '../data/B/user_register_log.txt', delimiter='\\t', header=None)\n",
    "video_create_log = pd.read_csv(\n",
    "    '../data/B/video_create_log.txt', delimiter='\\t', header=None)\n",
    "user_activity_log = pd.read_csv(\n",
    "    '../data/B/user_activity_log.txt', delimiter='\\t', header=None)\n",
    "\n",
    "print(app_launch_log.shape, user_register_log.shape, video_create_log.shape,\n",
    "      user_activity_log.shape)"
   ]
  },
  {
   "cell_type": "code",
   "execution_count": 5,
   "metadata": {
    "ExecuteTime": {
     "end_time": "2018-06-27T08:46:50.480398Z",
     "start_time": "2018-06-27T08:46:50.363466Z"
    }
   },
   "outputs": [],
   "source": [
    "user_register_log.columns=['user_id','register_day','register_type','device_type']\n",
    "app_launch_log.columns=['user_id','day']\n",
    "video_create_log.columns=['user_id','day']\n",
    "user_activity_log.columns=['user_id','day','page','video_id','author_id','action_type']"
   ]
  },
  {
   "cell_type": "markdown",
   "metadata": {
    "ExecuteTime": {
     "end_time": "2018-06-27T08:47:42.732553Z",
     "start_time": "2018-06-27T08:47:41.450287Z"
    }
   },
   "source": [
    "## 数据划分"
   ]
  },
  {
   "cell_type": "code",
   "execution_count": 12,
   "metadata": {
    "ExecuteTime": {
     "end_time": "2018-06-27T08:53:53.499226Z",
     "start_time": "2018-06-27T08:53:53.491208Z"
    }
   },
   "outputs": [],
   "source": [
    "user=user_register_log[user_register_log.register_day.values<17].user_id.unique()"
   ]
  },
  {
   "cell_type": "code",
   "execution_count": 14,
   "metadata": {
    "ExecuteTime": {
     "end_time": "2018-06-27T09:00:37.091797Z",
     "start_time": "2018-06-27T09:00:36.516128Z"
    }
   },
   "outputs": [],
   "source": [
    "user_video=video_create_log[video_create_log.day<17]\n",
    "user_reg=user_register_log[user_register_log.register_day<17]\n",
    "user_lau=app_launch_log[app_launch_log.day<17]\n",
    "user_act=user_activity_log[user_activity_log.day<17]"
   ]
  },
  {
   "cell_type": "code",
   "execution_count": 41,
   "metadata": {
    "ExecuteTime": {
     "end_time": "2018-06-27T09:42:18.869246Z",
     "start_time": "2018-06-27T09:42:18.399525Z"
    }
   },
   "outputs": [],
   "source": [
    "#特征1 操作次数\n",
    "group=user_act.groupby(user_act.user_id)\n",
    "act_count=group.size()"
   ]
  },
  {
   "cell_type": "code",
   "execution_count": 45,
   "metadata": {
    "ExecuteTime": {
     "end_time": "2018-06-27T09:44:04.961233Z",
     "start_time": "2018-06-27T09:44:04.955233Z"
    }
   },
   "outputs": [],
   "source": [
    "#特征2 video创建次数\n",
    "group=user_video.groupby(user_video.user_id)\n",
    "video_count=group.size()"
   ]
  },
  {
   "cell_type": "code",
   "execution_count": 33,
   "metadata": {
    "ExecuteTime": {
     "end_time": "2018-06-27T09:13:04.373843Z",
     "start_time": "2018-06-27T09:13:04.365830Z"
    }
   },
   "outputs": [],
   "source": [
    "#特征3 注册时间（注册日期）\n",
    "reg_day = user_reg.iloc[:, :2]\n",
    "reg_day = reg_day.set_index(reg_day.user_id).loc[:, 'register_day']"
   ]
  },
  {
   "cell_type": "code",
   "execution_count": 35,
   "metadata": {
    "ExecuteTime": {
     "end_time": "2018-06-27T09:23:40.357285Z",
     "start_time": "2018-06-27T09:23:40.341292Z"
    }
   },
   "outputs": [],
   "source": [
    "#特征4 启动次数\n",
    "group=user_lau.groupby(user_lau.user_id)\n",
    "lau_count=group.size()"
   ]
  },
  {
   "cell_type": "code",
   "execution_count": 37,
   "metadata": {
    "ExecuteTime": {
     "end_time": "2018-06-27T09:31:05.583831Z",
     "start_time": "2018-06-27T09:31:05.103107Z"
    }
   },
   "outputs": [],
   "source": [
    "#特征5 最后一次使用日期\n",
    "group=user_act.groupby(user_act.user_id)\n",
    "act_maxday=group.day.max()"
   ]
  },
  {
   "cell_type": "code",
   "execution_count": 44,
   "metadata": {
    "ExecuteTime": {
     "end_time": "2018-06-27T09:44:02.048636Z",
     "start_time": "2018-06-27T09:44:02.034647Z"
    }
   },
   "outputs": [],
   "source": [
    "#特征6 最后一次创建video\n",
    "group = user_video.groupby(user_video.user_id)\n",
    "video_maxday = group.day.max()"
   ]
  },
  {
   "cell_type": "code",
   "execution_count": null,
   "metadata": {},
   "outputs": [],
   "source": [
    "#特征7 "
   ]
  },
  {
   "cell_type": "code",
   "execution_count": 49,
   "metadata": {
    "ExecuteTime": {
     "end_time": "2018-06-27T09:45:05.547610Z",
     "start_time": "2018-06-27T09:45:05.523626Z"
    }
   },
   "outputs": [],
   "source": [
    "data = pd.concat(\n",
    "    [act_count, video_count, reg_day, lau_count,act_maxday,video_maxday], axis=1)\n",
    "data.columns = ['act_count', 'video_count', 'reg_day', 'lau_count','act_maxday','video_maxday']\n",
    "data=data.fillna(0)"
   ]
  }
 ],
 "metadata": {
  "kernelspec": {
   "display_name": "Python 3",
   "language": "python",
   "name": "python3"
  },
  "language_info": {
   "codemirror_mode": {
    "name": "ipython",
    "version": 3
   },
   "file_extension": ".py",
   "mimetype": "text/x-python",
   "name": "python",
   "nbconvert_exporter": "python",
   "pygments_lexer": "ipython3",
   "version": "3.6.4"
  },
  "varInspector": {
   "cols": {
    "lenName": 16,
    "lenType": 16,
    "lenVar": 40
   },
   "kernels_config": {
    "python": {
     "delete_cmd_postfix": "",
     "delete_cmd_prefix": "del ",
     "library": "var_list.py",
     "varRefreshCmd": "print(var_dic_list())"
    },
    "r": {
     "delete_cmd_postfix": ") ",
     "delete_cmd_prefix": "rm(",
     "library": "var_list.r",
     "varRefreshCmd": "cat(var_dic_list()) "
    }
   },
   "types_to_exclude": [
    "module",
    "function",
    "builtin_function_or_method",
    "instance",
    "_Feature"
   ],
   "window_display": false
  }
 },
 "nbformat": 4,
 "nbformat_minor": 2
}
